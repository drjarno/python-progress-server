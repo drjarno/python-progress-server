{
 "cells": [
  {
   "cell_type": "code",
   "execution_count": 1,
   "metadata": {},
   "outputs": [],
   "source": [
    "from urllib.request import urlopen\n",
    "import json\n",
    "from matplotlib import pyplot as plt"
   ]
  },
  {
   "cell_type": "code",
   "execution_count": 2,
   "metadata": {},
   "outputs": [],
   "source": [
    "numparticipants = 87"
   ]
  },
  {
   "cell_type": "code",
   "execution_count": 3,
   "metadata": {},
   "outputs": [],
   "source": [
    "def progress(chapter, exercise):\n",
    "    data = json.load(urlopen(\"https://206-167-181-43.cloud.computecanada.ca:8080/admin\"))\n",
    "    fig1, ax1 = plt.subplots()\n",
    "    ax1.pie(\n",
    "        [data[\"counts\"][\"chap\" + str(chapter) + \"ex\" + str(exercise)], numparticipants - data[\"counts\"][\"chap\" + str(chapter) + \"ex\" + str(exercise)]],\n",
    "        labels=[\"Completed\", \"Pending\"],\n",
    "        explode = [0.1, 0],\n",
    "        shadow=True,\n",
    "        autopct='%1.1f%%',\n",
    "        startangle=90)\n",
    "    ax1.set(aspect=\"equal\", title=\"Chapter \" + str(chapter) + \"\\nExercise \" + str(exercise))"
   ]
  },
  {
   "cell_type": "code",
   "execution_count": 4,
   "metadata": {},
   "outputs": [],
   "source": [
    "def answers(chapter, quiz):\n",
    "    data = json.load(urlopen(\"https://206-167-181-43.cloud.computecanada.ca:8080/admin\"))\n",
    "    for answer in data[\"answers\"][\"chap\" + str(chapter) + \"q\" + str(quiz)]:\n",
    "        print(answer)"
   ]
  },
  {
   "cell_type": "code",
   "execution_count": 5,
   "metadata": {},
   "outputs": [
    {
     "data": {
      "image/png": "[encoded data removed]",
      "text/plain": [
       "<Figure size 432x288 with 1 Axes>"
      ]
     },
     "metadata": {},
     "output_type": "display_data"
    }
   ],
   "source": [
    "progress(3,2)"
   ]
  },
  {
   "cell_type": "code",
   "execution_count": 11,
   "metadata": {},
   "outputs": [
    {
     "name": "stdout",
     "output_type": "stream",
     "text": [
      "..\n",
      "...\n"
     ]
    }
   ],
   "source": [
    "answers(2,1)"
   ]
  },
  {
   "cell_type": "code",
   "execution_count": null,
   "metadata": {},
   "outputs": [],
   "source": []
  }
 ],
 "metadata": {
  "kernelspec": {
   "display_name": "Python 3 (ipykernel)",
   "language": "python",
   "name": "python3"
  },
  "language_info": {
   "codemirror_mode": {
    "name": "ipython",
    "version": 3
   },
   "file_extension": ".py",
   "mimetype": "text/x-python",
   "name": "python",
   "nbconvert_exporter": "python",
   "pygments_lexer": "ipython3",
   "version": "3.9.6"
  }
 },
 "nbformat": 4,
 "nbformat_minor": 2
}
